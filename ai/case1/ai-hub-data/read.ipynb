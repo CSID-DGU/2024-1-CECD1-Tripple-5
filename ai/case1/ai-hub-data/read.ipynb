{
 "cells": [
  {
   "cell_type": "markdown",
   "id": "7b016644-3e4b-4ae1-be3e-6cbfd2109683",
   "metadata": {},
   "source": [
    "# 여행 코스 기반 데이터 정리"
   ]
  },
  {
   "cell_type": "code",
   "execution_count": 18,
   "id": "408e2201-ceb9-442c-9dbb-16701861a682",
   "metadata": {},
   "outputs": [
    {
     "name": "stdout",
     "output_type": "stream",
     "text": [
      "visit_area_info_df: (30154, 23)\n",
      "traveller_master_df (3200, 36)\n",
      "visit_area_info_df (30154, 24)\n",
      "merged_df (24288, 59)\n"
     ]
    }
   ],
   "source": [
    "# 여행객 특성과 방문지 정보 종합 테이블\n",
    "import numpy as np\n",
    "import pandas as pd\n",
    "\n",
    "# CSV 파일 읽기\n",
    "visit_area_info_df = pd.read_csv('tn_visit_area_info_방문지정보_A.csv')\n",
    "print('visit_area_info_df:',visit_area_info_df.shape)\n",
    "traveller_master_df = pd.read_csv('tn_traveller_master_여행객 Master_A.csv')\n",
    "print('traveller_master_df',traveller_master_df.shape)\n",
    "\n",
    "# TRAVELER_ID 생성 (TRAVEL_ID 열에서 앞 2자리 제거)\n",
    "visit_area_info_df['TRAVELER_ID'] = visit_area_info_df['TRAVEL_ID'].astype(str).str[2:]\n",
    "print('visit_area_info_df',visit_area_info_df.shape)\n",
    "\n",
    "# DataFrame 조인\n",
    "merged_df = pd.merge(visit_area_info_df, traveller_master_df, on='TRAVELER_ID', how='inner')\n",
    "print('merged_df',merged_df.shape)\n",
    "\n",
    "# # VISIT_AREA_NM 열의 값이 '집'인 행 제거\n",
    "# filtered_df = merged_df[merged_df['VISIT_AREA_NM'] != '집']\n",
    "# print('filtered_df',filtered_df.shape)\n",
    "# filtered_df\n",
    "filtered_df = merged_df\n",
    "\n",
    "# filtered_df.to_csv('new_csv/filtered_df.csv', index=False)"
   ]
  },
  {
   "cell_type": "code",
   "execution_count": 19,
   "id": "34eb080d-035b-46cf-ba59-fe5471cf75f0",
   "metadata": {},
   "outputs": [
    {
     "name": "stdout",
     "output_type": "stream",
     "text": [
      "result_df (967, 59)\n"
     ]
    }
   ],
   "source": [
    "# 서울 중구를 한 번이라도 들른 경우에 대한 여행 기록만 남김\n",
    "result_df = filtered_df[\n",
    "    filtered_df['ROAD_NM_ADDR'].fillna('').str.contains('서울 중구') |\n",
    "    filtered_df['LOTNO_ADDR'].fillna('').str.contains('서울 중구')\n",
    "]\n",
    "print('result_df',result_df.shape)\n",
    "# result_df.to_csv('new_csv/result_df.csv', index=False)"
   ]
  },
  {
   "cell_type": "code",
   "execution_count": 20,
   "id": "c5529c1f-1fc2-487f-a0b9-58ae3755b315",
   "metadata": {},
   "outputs": [
    {
     "data": {
      "text/plain": [
       "348"
      ]
     },
     "execution_count": 20,
     "metadata": {},
     "output_type": "execute_result"
    }
   ],
   "source": [
    "len(np.unique(result_df['TRAVELER_ID']))"
   ]
  },
  {
   "cell_type": "code",
   "execution_count": 22,
   "id": "6ecf98b9-2f5c-4de4-ba14-2a3a082f4e88",
   "metadata": {},
   "outputs": [
    {
     "name": "stdout",
     "output_type": "stream",
     "text": [
      "filtered_df_02 (4375, 59)\n"
     ]
    }
   ],
   "source": [
    "# 서울 중구를 한 번이라도 들른 경우에 대한 여행 기록\n",
    "filtered_df_02 = filtered_df[filtered_df['TRAVEL_ID'].isin(np.unique(result_df['TRAVEL_ID']))]\n",
    "# filtered_df_02.to_csv('new_csv/filtered_df_02.csv', index=False)\n",
    "print('filtered_df_02',filtered_df_02.shape)"
   ]
  },
  {
   "cell_type": "code",
   "execution_count": 23,
   "id": "6cdb0534-0bf6-4999-9c5f-82644b0223dc",
   "metadata": {},
   "outputs": [],
   "source": [
    "# # 첫 번째로 들른 장소(집) 제거\n",
    "# filtered_df_03 = filtered_df_02[filtered_df_02['VISIT_ORDER'] != 1]\n",
    "# filtered_df_03.to_csv('new_csv/filtered_df_03.csv', index=False)\n",
    "# print('filtered_df_03',filtered_df_03.shape)\n",
    "filtered_df_03 = filtered_df_02"
   ]
  },
  {
   "cell_type": "code",
   "execution_count": 24,
   "id": "23f0d166-61cf-4bba-aa50-76c41c68ad6c",
   "metadata": {},
   "outputs": [],
   "source": [
    "# # X_COORD, Y_COORD(위도, 경도) 값이 NULL일 경우 제거 ← 집/거리 등 제거 목적\n",
    "# filtered_df_04 = filtered_df_03[(filtered_df_03['X_COORD'].isnull() == False) & (filtered_df_03['Y_COORD'].isnull() == False)]\n",
    "# filtered_df_04.to_csv('new_csv/filtered_df_04.csv', index=False)\n",
    "# print('filtered_df_04',filtered_df_04.shape)\n",
    "filtered_df_04 = filtered_df_03"
   ]
  },
  {
   "cell_type": "code",
   "execution_count": 25,
   "id": "6a914104-fe45-4e33-9fca-f50eea921a3c",
   "metadata": {},
   "outputs": [],
   "source": [
    "# # VISIT_AREA_NM 기준 아파트/호텔/정류장/터미널 단어 포함일 경우 제거\n",
    "# filtered_df_05 = filtered_df_04[filtered_df_04['VISIT_AREA_NM'].str.contains('아파트|호텔|정류장|터미널') == False]\n",
    "# filtered_df_05.to_csv('new_csv/filtered_df_05.csv', index=False)\n",
    "# print('filtered_df_05',filtered_df_05.shape)\n",
    "filtered_df_05 = filtered_df_04"
   ]
  },
  {
   "cell_type": "code",
   "execution_count": 26,
   "id": "bcafcaff-e36c-4772-9d50-f561b7dc3eb2",
   "metadata": {},
   "outputs": [
    {
     "name": "stdout",
     "output_type": "stream",
     "text": [
      "filtered_df_05_sorted (4375, 59)\n"
     ]
    }
   ],
   "source": [
    "# TRAVEL_ID 순으로 정렬하고, 각 TRAVEL_ID 내에서 VISIT_ORDER 순으로 정렬\n",
    "filtered_df_05_sorted = filtered_df_05.sort_values(by=['TRAVEL_ID', 'VISIT_ORDER'])\n",
    "# filtered_df_05_sorted.to_csv('new_csv/filtered_df_05_sorted.csv', index=False)\n",
    "print('filtered_df_05_sorted',filtered_df_05_sorted.shape)"
   ]
  },
  {
   "cell_type": "code",
   "execution_count": 27,
   "id": "c916f3ef-31d0-41f2-8805-22fc1b928eba",
   "metadata": {},
   "outputs": [
    {
     "name": "stdout",
     "output_type": "stream",
     "text": [
      "filtered_df_05_sorted_selected (4375, 17)\n"
     ]
    }
   ],
   "source": [
    "#여행 코스에 대한 해당 장소 이름 및 위치 정보만 추출\n",
    "filtered_df_05_sorted_selected = filtered_df_05_sorted[[\n",
    "    'TRAVEL_ID', 'VISIT_ORDER', 'VISIT_AREA_NM', 'VISIT_START_YMD', 'VISIT_END_YMD', 'ROAD_NM_ADDR', 'LOTNO_ADDR', 'X_COORD', 'Y_COORD',\n",
    "    'RESIDENCE_TIME_MIN', 'VISIT_AREA_TYPE_CD', 'REVISIT_YN', 'VISIT_CHC_REASON_CD', 'LODGING_TYPE_CD', 'DGSTFN', 'REVISIT_INTENTION', 'RCMDTN_INTENTION'\n",
    "]]\n",
    "# filtered_df_05_sorted_selected.to_csv('new_csv/filtered_df_05_sorted_selected.csv', index=False)\n",
    "print('filtered_df_05_sorted_selected',filtered_df_05_sorted_selected.shape)"
   ]
  },
  {
   "cell_type": "code",
   "execution_count": 28,
   "id": "81b757ec-0d50-4974-b34d-071a4a298bad",
   "metadata": {},
   "outputs": [
    {
     "data": {
      "text/plain": [
       "348"
      ]
     },
     "execution_count": 28,
     "metadata": {},
     "output_type": "execute_result"
    }
   ],
   "source": [
    "len(np.unique(filtered_df_05_sorted_selected['TRAVEL_ID']))"
   ]
  },
  {
   "cell_type": "code",
   "execution_count": 29,
   "id": "92fe818c-8a9b-4792-8cf9-ab5ee5866517",
   "metadata": {},
   "outputs": [
    {
     "name": "stdout",
     "output_type": "stream",
     "text": [
      "코스 내의 장소 전체 가짓수 2214\n",
      "서울 중구 장소 가짓수 365\n"
     ]
    }
   ],
   "source": [
    "# len(np.unique(filtered_df_05_sorted_selected['TRAVEL_ID']))\n",
    "\n",
    "print('코스 내의 장소 전체 가짓수',len(np.unique(filtered_df_05_sorted_selected['VISIT_AREA_NM'])))\n",
    "filtered_df_05_sorted_selected[filtered_df_05_sorted_selected['ROAD_NM_ADDR'].fillna('').str.contains('서울 중구')]\n",
    "print('서울 중구 장소 가짓수', len(np.unique(filtered_df_05_sorted_selected[\n",
    "    filtered_df_05_sorted_selected['ROAD_NM_ADDR'].fillna('').str.contains('서울 중구') | \n",
    "    filtered_df_05_sorted_selected['LOTNO_ADDR'].fillna('').str.contains('서울 중구')\n",
    "]['LOTNO_ADDR'].astype(str))))"
   ]
  },
  {
   "cell_type": "markdown",
   "id": "081ff213-2ab5-4f83-9d53-8e6ca327dd45",
   "metadata": {},
   "source": [
    "## 해당 장소가 뭐하는 곳인지, 여행자가 그 장소에서 무슨 활동을 했는지 정보 보완"
   ]
  },
  {
   "cell_type": "code",
   "execution_count": 30,
   "id": "9ab7211a-c1c3-470a-a4ec-7c0be5212bd8",
   "metadata": {},
   "outputs": [
    {
     "name": "stdout",
     "output_type": "stream",
     "text": [
      "activity_df (34520, 9)\n",
      "activity_df의 방문지 가짓수: 1402\n"
     ]
    }
   ],
   "source": [
    "# tn_activity_his_활동내역_A.csv\n",
    "activity_df = pd.read_csv('tn_activity_his_활동내역_A.csv')\n",
    "print('activity_df', activity_df.shape)\n",
    "\n",
    "print('activity_df의 방문지 가짓수:', len(np.unique(activity_df['VISIT_AREA_ID'])))"
   ]
  },
  {
   "cell_type": "code",
   "execution_count": 31,
   "id": "9274e169-c78c-47b2-bfb2-ebe01c0f542a",
   "metadata": {},
   "outputs": [
    {
     "name": "stdout",
     "output_type": "stream",
     "text": [
      "df (4375, 17)\n"
     ]
    }
   ],
   "source": [
    "df = filtered_df_05_sorted_selected.copy()\n",
    "tc_codeb = pd.read_csv('tc_codeb_코드B.csv')\n",
    "\n",
    "# - RESIDENCE_TIME_MIN\n",
    "#     - 값 → ~분\n",
    "# df['RESIDENCE_TIME_MIN'] = df['RESIDENCE_TIME_MIN'].astype(str) + '분 동안 체류함.'\n",
    "df['RESIDENCE_TIME_MIN'] = df['RESIDENCE_TIME_MIN']\n",
    "\n",
    "# - VISIT_AREA_TYPE_CD\n",
    "#     - 타테이블 내에 정보 위치\n",
    "# VISIT_AREA_TYPE_CD 열 값을 대체\n",
    "df['VISIT_AREA_TYPE_CD'] = df['VISIT_AREA_TYPE_CD'].astype(str)\n",
    "tc_codeb['cd_b'] = tc_codeb['cd_b'].astype(str)\n",
    "\n",
    "tc_codeb_VISIT_AREA_TYPE_CD = tc_codeb[tc_codeb['cd_a']=='VIS']\n",
    "df = pd.merge(df, tc_codeb_VISIT_AREA_TYPE_CD[['cd_b', 'cd_nm']], how='left', left_on='VISIT_AREA_TYPE_CD', right_on='cd_b')\n",
    "df['VISIT_AREA_TYPE_CD'] = df['cd_nm']\n",
    "df = df.drop(columns=['cd_b', 'cd_nm'])\n",
    "df\n",
    "\n",
    "# - REVISIT_YN\n",
    "#     - 값 → 재방문 여부\n",
    "df.loc[df['REVISIT_YN'] == 'Y', 'REVISIT_YN'] = \"재방문 했음.\"\n",
    "df.loc[df['REVISIT_YN'] == 'N', 'REVISIT_YN'] = \"재방문 안 했음.\"\n",
    "\n",
    "# - VISIT_CHC_REASON_CD\n",
    "#     - 타테이블 내에 정보 위치\n",
    "df['VISIT_CHC_REASON_CD'] = df['VISIT_CHC_REASON_CD'].fillna(0).astype(int).astype(str)\n",
    "tc_codeb['cd_b'] = tc_codeb['cd_b'].astype(str)\n",
    "\n",
    "tc_codeb_VISIT_CHC_REASON_CD = tc_codeb[tc_codeb['cd_a']=='REN']\n",
    "df = pd.merge(df, tc_codeb_VISIT_CHC_REASON_CD[['cd_b', 'cd_nm']], how='left', left_on='VISIT_CHC_REASON_CD', right_on='cd_b')\n",
    "\n",
    "df['VISIT_CHC_REASON_CD'] = df['cd_nm'].fillna('')\n",
    "df = df.drop(columns=['cd_b', 'cd_nm'])\n",
    "df\n",
    "\n",
    "# - LODGING_TYPE_CD\n",
    "#     - 타테이블 내에 정보 위치\n",
    "df['LODGING_TYPE_CD'] = df['LODGING_TYPE_CD'].fillna(0).astype(int).astype(str)\n",
    "tc_codeb['cd_b'] = tc_codeb['cd_b'].astype(str)\n",
    "\n",
    "tc_codeb_LODGING_TYPE_CD = tc_codeb[tc_codeb['cd_a']=='HTY']\n",
    "df = pd.merge(df, tc_codeb_LODGING_TYPE_CD[['cd_b', 'cd_nm']], how='left', left_on='LODGING_TYPE_CD', right_on='cd_b')\n",
    "\n",
    "df['LODGING_TYPE_CD'] = df['cd_nm'].fillna('')\n",
    "df = df.drop(columns=['cd_b', 'cd_nm'])\n",
    "df\n",
    "\n",
    "# - DGSTFN\n",
    "#     - 타테이블 내에 정보 위치\n",
    "df['DGSTFN'] = df['DGSTFN'].fillna(0).astype(int).astype(str)\n",
    "tc_codeb['cd_b'] = tc_codeb['cd_b'].astype(str)\n",
    "\n",
    "tc_codeb_DGSTFN = tc_codeb[tc_codeb['cd_a']=='DGS']\n",
    "df = pd.merge(df, tc_codeb_DGSTFN[['cd_b', 'cd_nm']], how='left', left_on='DGSTFN', right_on='cd_b')\n",
    "\n",
    "df['DGSTFN'] = df['cd_nm'].fillna('')\n",
    "df = df.drop(columns=['cd_b', 'cd_nm'])\n",
    "df\n",
    "\n",
    "# - REVISIT_INTENTION\n",
    "#     - 타테이블 내에 정보 위치\n",
    "df['REVISIT_INTENTION'] = df['REVISIT_INTENTION'].fillna(0).astype(int).astype(str)\n",
    "tc_codeb['cd_b'] = tc_codeb['cd_b'].astype(str)\n",
    "\n",
    "tc_codeb_REVISIT_INTENTION = tc_codeb[tc_codeb['cd_a']=='REP']\n",
    "df = pd.merge(df, tc_codeb_REVISIT_INTENTION[['cd_b', 'cd_nm']], how='left', left_on='REVISIT_INTENTION', right_on='cd_b')\n",
    "\n",
    "df['REVISIT_INTENTION'] = df['cd_nm'].fillna('')\n",
    "df = df.drop(columns=['cd_b', 'cd_nm'])\n",
    "df\n",
    "\n",
    "# - RCMDTN_INTENTION\n",
    "#     - 타테이블 내에 정보 위치\n",
    "df['RCMDTN_INTENTION'] = df['RCMDTN_INTENTION'].fillna(0).astype(int).astype(str)\n",
    "tc_codeb['cd_b'] = tc_codeb['cd_b'].astype(str)\n",
    "\n",
    "tc_codeb_RCMDTN_INTENTION = tc_codeb[tc_codeb['cd_a']=='REC']\n",
    "df = pd.merge(df, tc_codeb_RCMDTN_INTENTION[['cd_b', 'cd_nm']], how='left', left_on='RCMDTN_INTENTION', right_on='cd_b')\n",
    "\n",
    "df['RCMDTN_INTENTION'] = df['cd_nm'].fillna('')\n",
    "df = df.drop(columns=['cd_b', 'cd_nm'])\n",
    "df\n",
    "\n",
    "# df.to_csv('new_csv/df.csv', index=False)\n",
    "print('df',df.shape)"
   ]
  },
  {
   "cell_type": "code",
   "execution_count": 32,
   "id": "885ecfc8-58f2-40de-b1a1-e1e944c3f89a",
   "metadata": {},
   "outputs": [
    {
     "name": "stdout",
     "output_type": "stream",
     "text": [
      "mo_df (3228, 17)\n"
     ]
    }
   ],
   "source": [
    "# 불필요한 장소 정보 제거\n",
    "mo_df = df[df['VISIT_AREA_TYPE_CD'].isin(['사무실', '역, 터미널, 고속도로 휴게소', '집', '친구/친지집']) != True]\n",
    "mo_df.shape\n",
    "\n",
    "# mo_df.to_csv('new_csv/mo_df.csv', index=False)\n",
    "print('mo_df',mo_df.shape)"
   ]
  },
  {
   "cell_type": "code",
   "execution_count": 33,
   "id": "0b2faebd-2067-4687-bc52-1e117014c2ee",
   "metadata": {},
   "outputs": [
    {
     "name": "stdout",
     "output_type": "stream",
     "text": [
      "mo_df (3228, 17)\n",
      "now_df (3143, 17)\n"
     ]
    }
   ],
   "source": [
    "# 서울 중구를 한 번이라도 들른 경우에 대한 여행 기록\n",
    "now_df = mo_df.copy()\n",
    "print('mo_df',mo_df.shape)\n",
    "\n",
    "now_df = now_df[now_df['TRAVEL_ID'].isin(np.unique(now_df[\n",
    "    now_df['ROAD_NM_ADDR'].fillna('').str.contains('서울 중구') |\n",
    "    now_df['LOTNO_ADDR'].fillna('').str.contains('서울 중구')\n",
    "]['TRAVEL_ID']))]\n",
    "# now_df.to_csv('new_csv/now_df.csv', index=False)\n",
    "print('now_df',now_df.shape)"
   ]
  },
  {
   "cell_type": "code",
   "execution_count": 34,
   "id": "a93f2d7c-f118-4ba9-9ab2-822c0d22cd79",
   "metadata": {},
   "outputs": [],
   "source": [
    "# # 선별\n",
    "\n",
    "# temp_df = df[df['VISIT_AREA_TYPE_CD'].isin(['사무실', '역, 터미널, 고속도로 휴게소', '집', '친구/친지집'])]\n",
    "# unique_values_counts_df = pd.DataFrame(np.unique(temp_df['VISIT_AREA_TYPE_CD'], return_counts=True)).transpose()\n",
    "# unique_values_counts_df.columns = ['VISIT_AREA_TYPE_CD', 'Count']\n",
    "# unique_values_counts_df"
   ]
  },
  {
   "cell_type": "code",
   "execution_count": 35,
   "id": "d603f288-e949-4b7a-b76b-66bb2ae6dc84",
   "metadata": {},
   "outputs": [
    {
     "name": "stdout",
     "output_type": "stream",
     "text": [
      "now_03_df (3044, 17)\n"
     ]
    }
   ],
   "source": [
    "# X_COORD, Y_COORD(위도, 경도) 값이 NULL일 경우 제거 ← 집/거리 등 제거 목적\n",
    "now_03_df = now_df[(now_df['X_COORD'].isnull() == False) & (now_df['Y_COORD'].isnull() == False)]\n",
    "now_03_df.to_csv('new_csv/now_03_df.csv', index=False)\n",
    "print('now_03_df',now_03_df.shape)"
   ]
  },
  {
   "cell_type": "code",
   "execution_count": 36,
   "id": "55d116e2-2a3c-4c83-85d0-acb17f3de4fc",
   "metadata": {},
   "outputs": [
    {
     "name": "stdout",
     "output_type": "stream",
     "text": [
      "여행 코스 가짓수 338\n",
      "전체 장소 가짓수 1764\n",
      "중구 장소 가짓수 426\n"
     ]
    }
   ],
   "source": [
    "# 현황\n",
    "now_state_df = now_03_df\n",
    "print('여행 코스 가짓수', len(np.unique(now_state_df['TRAVEL_ID'])))\n",
    "print('전체 장소 가짓수', len(np.unique(now_state_df['VISIT_AREA_NM'])))\n",
    "print('중구 장소 가짓수', len(np.unique(now_state_df[\n",
    "    now_state_df['ROAD_NM_ADDR'].fillna('').str.contains('서울 중구') |\n",
    "    now_state_df['LOTNO_ADDR'].fillna('').str.contains('서울 중구')\n",
    "]['VISIT_AREA_NM'])))"
   ]
  },
  {
   "cell_type": "code",
   "execution_count": null,
   "id": "0d1835f5-a6e9-428e-ad78-615fcadad9dc",
   "metadata": {},
   "outputs": [],
   "source": []
  }
 ],
 "metadata": {
  "kernelspec": {
   "display_name": "Python 3 (ipykernel)",
   "language": "python",
   "name": "python3"
  },
  "language_info": {
   "codemirror_mode": {
    "name": "ipython",
    "version": 3
   },
   "file_extension": ".py",
   "mimetype": "text/x-python",
   "name": "python",
   "nbconvert_exporter": "python",
   "pygments_lexer": "ipython3",
   "version": "3.8.19"
  }
 },
 "nbformat": 4,
 "nbformat_minor": 5
}
